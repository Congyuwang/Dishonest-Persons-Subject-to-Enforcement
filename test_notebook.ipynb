{
 "cells": [
  {
   "cell_type": "code",
   "execution_count": 1,
   "id": "94a48e91",
   "metadata": {},
   "outputs": [],
   "source": [
    "import baidu_api as api"
   ]
  },
  {
   "cell_type": "markdown",
   "id": "07c24f51",
   "metadata": {},
   "source": [
    "## 名字"
   ]
  },
  {
   "cell_type": "code",
   "execution_count": 2,
   "id": "d02de41e",
   "metadata": {},
   "outputs": [
    {
     "name": "stderr",
     "output_type": "stream",
     "text": [
      "21it [00:08,  2.57it/s]\n"
     ]
    }
   ],
   "source": [
    "df_liming = api.get(name=\"李明\")"
   ]
  },
  {
   "cell_type": "code",
   "execution_count": 3,
   "id": "80360b03",
   "metadata": {
    "scrolled": false
   },
   "outputs": [
    {
     "data": {
      "text/plain": "       SiteId  StdStg  StdStl  _select_time _update_time  _version age  \\\n0     2015330    6899       8    1640488427   1640491062      2634   0   \n1     2015330    6899       8    1640485797   1640491062      2634  53   \n2     2015330    6899       8    1640485661   1640491063      2634  38   \n3     2015330    6899       8    1640483954   1640491065      2634  25   \n4     2015330    6899       8    1640484037   1640491067      2634  37   \n...       ...     ...     ...           ...          ...       ...  ..   \n1045  2015330    6899       8    1640488466   1640492449      2634  41   \n1046  2015330    6899       8    1640486172   1640492449      2634  49   \n1047  2015330    6899       8    1640486760   1640492452      2634  44   \n1048  2015330    6899       8    1640481180   1640492453      2634  34   \n1049  2015330    6899       8    1640482174   1640492453      2634  52   \n\n     areaName areaNameNew businessEntity  ... priority  publishDate  \\\n0          山东          山东             李明  ...      1.0  2015年08月07日   \n1          新疆          新疆                 ...      1.0  2015年11月12日   \n2          江苏          江苏                 ...      1.0  2015年08月29日   \n3          广西          广西                 ...      1.0  2015年06月02日   \n4          江苏          江苏                 ...      1.0  2015年07月20日   \n...       ...         ...            ...  ...      ...          ...   \n1045       天津          天津                 ...      1.0  2018年05月14日   \n1046       重庆          重庆                 ...      1.0  2019年11月06日   \n1047       江西          江西                 ...      1.0  2018年05月14日   \n1048       四川          四川                 ...      1.0  2021年08月05日   \n1049       贵州          贵州                 ...      1.0  2016年04月27日   \n\n     publishDateStamp   regDate sexy                   sitelink  title  \\\n0          1438876800  20150511       http://zxgk.court.gov.cn/  失信人查询   \n1          1447257600  20150521   男性  http://zxgk.court.gov.cn/  失信人查询   \n2          1440777600  20150401   女性  http://zxgk.court.gov.cn/  失信人查询   \n3          1433174400  20150601   男性  http://zxgk.court.gov.cn/  失信人查询   \n4          1437321600  20150616   男性  http://zxgk.court.gov.cn/  失信人查询   \n...               ...       ...  ...                        ...    ...   \n1045       1526227200  20180205   男性  http://zxgk.court.gov.cn/  失信人查询   \n1046       1572969600  20180918   女性  http://zxgk.court.gov.cn/  失信人查询   \n1047       1526227200  20180424   男性  http://zxgk.court.gov.cn/  失信人查询   \n1048       1628092800  20210407   男性  http://zxgk.court.gov.cn/  失信人查询   \n1049       1461686400  20160419   男性  http://zxgk.court.gov.cn/  失信人查询   \n\n          type unperformPart xzhId  \n0     失信被执行人名单                   0  \n1     失信被执行人名单                   0  \n2     失信被执行人名单                   0  \n3     失信被执行人名单                   0  \n4     失信被执行人名单                   0  \n...        ...           ...   ...  \n1045  失信被执行人名单            暂无     0  \n1046  失信被执行人名单            暂无     0  \n1047  失信被执行人名单            暂无     0  \n1048  失信被执行人名单            暂无     0  \n1049  失信被执行人名单                   0  \n\n[1050 rows x 36 columns]",
      "text/html": "<div>\n<style scoped>\n    .dataframe tbody tr th:only-of-type {\n        vertical-align: middle;\n    }\n\n    .dataframe tbody tr th {\n        vertical-align: top;\n    }\n\n    .dataframe thead th {\n        text-align: right;\n    }\n</style>\n<table border=\"1\" class=\"dataframe\">\n  <thead>\n    <tr style=\"text-align: right;\">\n      <th></th>\n      <th>SiteId</th>\n      <th>StdStg</th>\n      <th>StdStl</th>\n      <th>_select_time</th>\n      <th>_update_time</th>\n      <th>_version</th>\n      <th>age</th>\n      <th>areaName</th>\n      <th>areaNameNew</th>\n      <th>businessEntity</th>\n      <th>...</th>\n      <th>priority</th>\n      <th>publishDate</th>\n      <th>publishDateStamp</th>\n      <th>regDate</th>\n      <th>sexy</th>\n      <th>sitelink</th>\n      <th>title</th>\n      <th>type</th>\n      <th>unperformPart</th>\n      <th>xzhId</th>\n    </tr>\n  </thead>\n  <tbody>\n    <tr>\n      <th>0</th>\n      <td>2015330</td>\n      <td>6899</td>\n      <td>8</td>\n      <td>1640488427</td>\n      <td>1640491062</td>\n      <td>2634</td>\n      <td>0</td>\n      <td>山东</td>\n      <td>山东</td>\n      <td>李明</td>\n      <td>...</td>\n      <td>1.0</td>\n      <td>2015年08月07日</td>\n      <td>1438876800</td>\n      <td>20150511</td>\n      <td></td>\n      <td>http://zxgk.court.gov.cn/</td>\n      <td>失信人查询</td>\n      <td>失信被执行人名单</td>\n      <td></td>\n      <td>0</td>\n    </tr>\n    <tr>\n      <th>1</th>\n      <td>2015330</td>\n      <td>6899</td>\n      <td>8</td>\n      <td>1640485797</td>\n      <td>1640491062</td>\n      <td>2634</td>\n      <td>53</td>\n      <td>新疆</td>\n      <td>新疆</td>\n      <td></td>\n      <td>...</td>\n      <td>1.0</td>\n      <td>2015年11月12日</td>\n      <td>1447257600</td>\n      <td>20150521</td>\n      <td>男性</td>\n      <td>http://zxgk.court.gov.cn/</td>\n      <td>失信人查询</td>\n      <td>失信被执行人名单</td>\n      <td></td>\n      <td>0</td>\n    </tr>\n    <tr>\n      <th>2</th>\n      <td>2015330</td>\n      <td>6899</td>\n      <td>8</td>\n      <td>1640485661</td>\n      <td>1640491063</td>\n      <td>2634</td>\n      <td>38</td>\n      <td>江苏</td>\n      <td>江苏</td>\n      <td></td>\n      <td>...</td>\n      <td>1.0</td>\n      <td>2015年08月29日</td>\n      <td>1440777600</td>\n      <td>20150401</td>\n      <td>女性</td>\n      <td>http://zxgk.court.gov.cn/</td>\n      <td>失信人查询</td>\n      <td>失信被执行人名单</td>\n      <td></td>\n      <td>0</td>\n    </tr>\n    <tr>\n      <th>3</th>\n      <td>2015330</td>\n      <td>6899</td>\n      <td>8</td>\n      <td>1640483954</td>\n      <td>1640491065</td>\n      <td>2634</td>\n      <td>25</td>\n      <td>广西</td>\n      <td>广西</td>\n      <td></td>\n      <td>...</td>\n      <td>1.0</td>\n      <td>2015年06月02日</td>\n      <td>1433174400</td>\n      <td>20150601</td>\n      <td>男性</td>\n      <td>http://zxgk.court.gov.cn/</td>\n      <td>失信人查询</td>\n      <td>失信被执行人名单</td>\n      <td></td>\n      <td>0</td>\n    </tr>\n    <tr>\n      <th>4</th>\n      <td>2015330</td>\n      <td>6899</td>\n      <td>8</td>\n      <td>1640484037</td>\n      <td>1640491067</td>\n      <td>2634</td>\n      <td>37</td>\n      <td>江苏</td>\n      <td>江苏</td>\n      <td></td>\n      <td>...</td>\n      <td>1.0</td>\n      <td>2015年07月20日</td>\n      <td>1437321600</td>\n      <td>20150616</td>\n      <td>男性</td>\n      <td>http://zxgk.court.gov.cn/</td>\n      <td>失信人查询</td>\n      <td>失信被执行人名单</td>\n      <td></td>\n      <td>0</td>\n    </tr>\n    <tr>\n      <th>...</th>\n      <td>...</td>\n      <td>...</td>\n      <td>...</td>\n      <td>...</td>\n      <td>...</td>\n      <td>...</td>\n      <td>...</td>\n      <td>...</td>\n      <td>...</td>\n      <td>...</td>\n      <td>...</td>\n      <td>...</td>\n      <td>...</td>\n      <td>...</td>\n      <td>...</td>\n      <td>...</td>\n      <td>...</td>\n      <td>...</td>\n      <td>...</td>\n      <td>...</td>\n      <td>...</td>\n    </tr>\n    <tr>\n      <th>1045</th>\n      <td>2015330</td>\n      <td>6899</td>\n      <td>8</td>\n      <td>1640488466</td>\n      <td>1640492449</td>\n      <td>2634</td>\n      <td>41</td>\n      <td>天津</td>\n      <td>天津</td>\n      <td></td>\n      <td>...</td>\n      <td>1.0</td>\n      <td>2018年05月14日</td>\n      <td>1526227200</td>\n      <td>20180205</td>\n      <td>男性</td>\n      <td>http://zxgk.court.gov.cn/</td>\n      <td>失信人查询</td>\n      <td>失信被执行人名单</td>\n      <td>暂无</td>\n      <td>0</td>\n    </tr>\n    <tr>\n      <th>1046</th>\n      <td>2015330</td>\n      <td>6899</td>\n      <td>8</td>\n      <td>1640486172</td>\n      <td>1640492449</td>\n      <td>2634</td>\n      <td>49</td>\n      <td>重庆</td>\n      <td>重庆</td>\n      <td></td>\n      <td>...</td>\n      <td>1.0</td>\n      <td>2019年11月06日</td>\n      <td>1572969600</td>\n      <td>20180918</td>\n      <td>女性</td>\n      <td>http://zxgk.court.gov.cn/</td>\n      <td>失信人查询</td>\n      <td>失信被执行人名单</td>\n      <td>暂无</td>\n      <td>0</td>\n    </tr>\n    <tr>\n      <th>1047</th>\n      <td>2015330</td>\n      <td>6899</td>\n      <td>8</td>\n      <td>1640486760</td>\n      <td>1640492452</td>\n      <td>2634</td>\n      <td>44</td>\n      <td>江西</td>\n      <td>江西</td>\n      <td></td>\n      <td>...</td>\n      <td>1.0</td>\n      <td>2018年05月14日</td>\n      <td>1526227200</td>\n      <td>20180424</td>\n      <td>男性</td>\n      <td>http://zxgk.court.gov.cn/</td>\n      <td>失信人查询</td>\n      <td>失信被执行人名单</td>\n      <td>暂无</td>\n      <td>0</td>\n    </tr>\n    <tr>\n      <th>1048</th>\n      <td>2015330</td>\n      <td>6899</td>\n      <td>8</td>\n      <td>1640481180</td>\n      <td>1640492453</td>\n      <td>2634</td>\n      <td>34</td>\n      <td>四川</td>\n      <td>四川</td>\n      <td></td>\n      <td>...</td>\n      <td>1.0</td>\n      <td>2021年08月05日</td>\n      <td>1628092800</td>\n      <td>20210407</td>\n      <td>男性</td>\n      <td>http://zxgk.court.gov.cn/</td>\n      <td>失信人查询</td>\n      <td>失信被执行人名单</td>\n      <td>暂无</td>\n      <td>0</td>\n    </tr>\n    <tr>\n      <th>1049</th>\n      <td>2015330</td>\n      <td>6899</td>\n      <td>8</td>\n      <td>1640482174</td>\n      <td>1640492453</td>\n      <td>2634</td>\n      <td>52</td>\n      <td>贵州</td>\n      <td>贵州</td>\n      <td></td>\n      <td>...</td>\n      <td>1.0</td>\n      <td>2016年04月27日</td>\n      <td>1461686400</td>\n      <td>20160419</td>\n      <td>男性</td>\n      <td>http://zxgk.court.gov.cn/</td>\n      <td>失信人查询</td>\n      <td>失信被执行人名单</td>\n      <td></td>\n      <td>0</td>\n    </tr>\n  </tbody>\n</table>\n<p>1050 rows × 36 columns</p>\n</div>"
     },
     "execution_count": 3,
     "metadata": {},
     "output_type": "execute_result"
    }
   ],
   "source": [
    "df_liming"
   ]
  },
  {
   "cell_type": "markdown",
   "id": "7a07abe3",
   "metadata": {},
   "source": [
    "## 名字地区"
   ]
  },
  {
   "cell_type": "code",
   "execution_count": 4,
   "id": "423452dc",
   "metadata": {},
   "outputs": [
    {
     "name": "stderr",
     "output_type": "stream",
     "text": [
      "4it [00:01,  2.55it/s]\n"
     ]
    }
   ],
   "source": [
    "df_beijing = api.get(name=\"李明\", area=\"北京\")"
   ]
  },
  {
   "cell_type": "code",
   "execution_count": 5,
   "id": "3b584403",
   "metadata": {},
   "outputs": [
    {
     "data": {
      "text/plain": "      SiteId  StdStg  StdStl  _select_time _update_time  _version age  \\\n0    2015330    6899       8    1640481993   1640491094      2634  40   \n1    2015330    6899       8    1640482874   1640491180      2634  51   \n2    2015330    6899       8    1640486424   1640491249      2634  57   \n3    2015330    6899       8    1640482389   1640491275      2634  64   \n4    2015330    6899       8    1640480453   1640491331      2634  47   \n..       ...     ...     ...           ...          ...       ...  ..   \n192  2015330    6899       8    1640484986   1640498234      2634  31   \n193  2015330    6899       8    1640483844   1640498357      2634   0   \n194  2015330    6899       8    1640488762   1640499005      2634  57   \n195  2015330    6899       8    1640481543   1640499343      2634  32   \n196  2015330    6899       8    1640484011   1640499412      2634  40   \n\n    areaName areaNameNew businessEntity  ... priority  publishDate  \\\n0         北京          北京                 ...      1.0  2016年01月15日   \n1         北京          北京                 ...      1.0  2015年03月18日   \n2         北京          北京                 ...      1.0  2017年07月10日   \n3         北京          北京                 ...      1.0  2017年10月10日   \n4         北京          北京                 ...      1.0  2016年11月18日   \n..       ...         ...            ...  ...      ...          ...   \n192       北京          北京                 ...      1.0  2020年03月24日   \n193       北京          北京             李明  ...      1.0  2018年11月06日   \n194       北京          北京                 ...      1.0  2020年11月24日   \n195       北京          北京                 ...      1.0  2021年09月22日   \n196       北京          北京                 ...      1.0  2021年06月23日   \n\n    publishDateStamp   regDate sexy                   sitelink  title  \\\n0         1452787200  20151109   男性  http://zxgk.court.gov.cn/  失信人查询   \n1         1426608000  20101223   男性  http://zxgk.court.gov.cn/  失信人查询   \n2         1499616000  20170522   男性  http://zxgk.court.gov.cn/  失信人查询   \n3         1507564800  20170411   男性  http://zxgk.court.gov.cn/  失信人查询   \n4         1479398400  20160520   男性  http://zxgk.court.gov.cn/  失信人查询   \n..               ...       ...  ...                        ...    ...   \n192       1584979200  20200318   男性  http://zxgk.court.gov.cn/  失信人查询   \n193       1541433600  20181011       http://zxgk.court.gov.cn/  失信人查询   \n194       1606147200  20201013   男性  http://zxgk.court.gov.cn/  失信人查询   \n195       1632240000  20210716   男性  http://zxgk.court.gov.cn/  失信人查询   \n196       1624377600  20210107   男性  http://zxgk.court.gov.cn/  失信人查询   \n\n         type unperformPart xzhId  \n0    失信被执行人名单            暂无     0  \n1    失信被执行人名单            暂无     0  \n2    失信被执行人名单                   0  \n3    失信被执行人名单            暂无     0  \n4    失信被执行人名单                   0  \n..        ...           ...   ...  \n192  失信被执行人名单            暂无     0  \n193  失信被执行人名单            暂无     0  \n194  失信被执行人名单            暂无     0  \n195  失信被执行人名单            暂无     0  \n196  失信被执行人名单            暂无     0  \n\n[197 rows x 36 columns]",
      "text/html": "<div>\n<style scoped>\n    .dataframe tbody tr th:only-of-type {\n        vertical-align: middle;\n    }\n\n    .dataframe tbody tr th {\n        vertical-align: top;\n    }\n\n    .dataframe thead th {\n        text-align: right;\n    }\n</style>\n<table border=\"1\" class=\"dataframe\">\n  <thead>\n    <tr style=\"text-align: right;\">\n      <th></th>\n      <th>SiteId</th>\n      <th>StdStg</th>\n      <th>StdStl</th>\n      <th>_select_time</th>\n      <th>_update_time</th>\n      <th>_version</th>\n      <th>age</th>\n      <th>areaName</th>\n      <th>areaNameNew</th>\n      <th>businessEntity</th>\n      <th>...</th>\n      <th>priority</th>\n      <th>publishDate</th>\n      <th>publishDateStamp</th>\n      <th>regDate</th>\n      <th>sexy</th>\n      <th>sitelink</th>\n      <th>title</th>\n      <th>type</th>\n      <th>unperformPart</th>\n      <th>xzhId</th>\n    </tr>\n  </thead>\n  <tbody>\n    <tr>\n      <th>0</th>\n      <td>2015330</td>\n      <td>6899</td>\n      <td>8</td>\n      <td>1640481993</td>\n      <td>1640491094</td>\n      <td>2634</td>\n      <td>40</td>\n      <td>北京</td>\n      <td>北京</td>\n      <td></td>\n      <td>...</td>\n      <td>1.0</td>\n      <td>2016年01月15日</td>\n      <td>1452787200</td>\n      <td>20151109</td>\n      <td>男性</td>\n      <td>http://zxgk.court.gov.cn/</td>\n      <td>失信人查询</td>\n      <td>失信被执行人名单</td>\n      <td>暂无</td>\n      <td>0</td>\n    </tr>\n    <tr>\n      <th>1</th>\n      <td>2015330</td>\n      <td>6899</td>\n      <td>8</td>\n      <td>1640482874</td>\n      <td>1640491180</td>\n      <td>2634</td>\n      <td>51</td>\n      <td>北京</td>\n      <td>北京</td>\n      <td></td>\n      <td>...</td>\n      <td>1.0</td>\n      <td>2015年03月18日</td>\n      <td>1426608000</td>\n      <td>20101223</td>\n      <td>男性</td>\n      <td>http://zxgk.court.gov.cn/</td>\n      <td>失信人查询</td>\n      <td>失信被执行人名单</td>\n      <td>暂无</td>\n      <td>0</td>\n    </tr>\n    <tr>\n      <th>2</th>\n      <td>2015330</td>\n      <td>6899</td>\n      <td>8</td>\n      <td>1640486424</td>\n      <td>1640491249</td>\n      <td>2634</td>\n      <td>57</td>\n      <td>北京</td>\n      <td>北京</td>\n      <td></td>\n      <td>...</td>\n      <td>1.0</td>\n      <td>2017年07月10日</td>\n      <td>1499616000</td>\n      <td>20170522</td>\n      <td>男性</td>\n      <td>http://zxgk.court.gov.cn/</td>\n      <td>失信人查询</td>\n      <td>失信被执行人名单</td>\n      <td></td>\n      <td>0</td>\n    </tr>\n    <tr>\n      <th>3</th>\n      <td>2015330</td>\n      <td>6899</td>\n      <td>8</td>\n      <td>1640482389</td>\n      <td>1640491275</td>\n      <td>2634</td>\n      <td>64</td>\n      <td>北京</td>\n      <td>北京</td>\n      <td></td>\n      <td>...</td>\n      <td>1.0</td>\n      <td>2017年10月10日</td>\n      <td>1507564800</td>\n      <td>20170411</td>\n      <td>男性</td>\n      <td>http://zxgk.court.gov.cn/</td>\n      <td>失信人查询</td>\n      <td>失信被执行人名单</td>\n      <td>暂无</td>\n      <td>0</td>\n    </tr>\n    <tr>\n      <th>4</th>\n      <td>2015330</td>\n      <td>6899</td>\n      <td>8</td>\n      <td>1640480453</td>\n      <td>1640491331</td>\n      <td>2634</td>\n      <td>47</td>\n      <td>北京</td>\n      <td>北京</td>\n      <td></td>\n      <td>...</td>\n      <td>1.0</td>\n      <td>2016年11月18日</td>\n      <td>1479398400</td>\n      <td>20160520</td>\n      <td>男性</td>\n      <td>http://zxgk.court.gov.cn/</td>\n      <td>失信人查询</td>\n      <td>失信被执行人名单</td>\n      <td></td>\n      <td>0</td>\n    </tr>\n    <tr>\n      <th>...</th>\n      <td>...</td>\n      <td>...</td>\n      <td>...</td>\n      <td>...</td>\n      <td>...</td>\n      <td>...</td>\n      <td>...</td>\n      <td>...</td>\n      <td>...</td>\n      <td>...</td>\n      <td>...</td>\n      <td>...</td>\n      <td>...</td>\n      <td>...</td>\n      <td>...</td>\n      <td>...</td>\n      <td>...</td>\n      <td>...</td>\n      <td>...</td>\n      <td>...</td>\n      <td>...</td>\n    </tr>\n    <tr>\n      <th>192</th>\n      <td>2015330</td>\n      <td>6899</td>\n      <td>8</td>\n      <td>1640484986</td>\n      <td>1640498234</td>\n      <td>2634</td>\n      <td>31</td>\n      <td>北京</td>\n      <td>北京</td>\n      <td></td>\n      <td>...</td>\n      <td>1.0</td>\n      <td>2020年03月24日</td>\n      <td>1584979200</td>\n      <td>20200318</td>\n      <td>男性</td>\n      <td>http://zxgk.court.gov.cn/</td>\n      <td>失信人查询</td>\n      <td>失信被执行人名单</td>\n      <td>暂无</td>\n      <td>0</td>\n    </tr>\n    <tr>\n      <th>193</th>\n      <td>2015330</td>\n      <td>6899</td>\n      <td>8</td>\n      <td>1640483844</td>\n      <td>1640498357</td>\n      <td>2634</td>\n      <td>0</td>\n      <td>北京</td>\n      <td>北京</td>\n      <td>李明</td>\n      <td>...</td>\n      <td>1.0</td>\n      <td>2018年11月06日</td>\n      <td>1541433600</td>\n      <td>20181011</td>\n      <td></td>\n      <td>http://zxgk.court.gov.cn/</td>\n      <td>失信人查询</td>\n      <td>失信被执行人名单</td>\n      <td>暂无</td>\n      <td>0</td>\n    </tr>\n    <tr>\n      <th>194</th>\n      <td>2015330</td>\n      <td>6899</td>\n      <td>8</td>\n      <td>1640488762</td>\n      <td>1640499005</td>\n      <td>2634</td>\n      <td>57</td>\n      <td>北京</td>\n      <td>北京</td>\n      <td></td>\n      <td>...</td>\n      <td>1.0</td>\n      <td>2020年11月24日</td>\n      <td>1606147200</td>\n      <td>20201013</td>\n      <td>男性</td>\n      <td>http://zxgk.court.gov.cn/</td>\n      <td>失信人查询</td>\n      <td>失信被执行人名单</td>\n      <td>暂无</td>\n      <td>0</td>\n    </tr>\n    <tr>\n      <th>195</th>\n      <td>2015330</td>\n      <td>6899</td>\n      <td>8</td>\n      <td>1640481543</td>\n      <td>1640499343</td>\n      <td>2634</td>\n      <td>32</td>\n      <td>北京</td>\n      <td>北京</td>\n      <td></td>\n      <td>...</td>\n      <td>1.0</td>\n      <td>2021年09月22日</td>\n      <td>1632240000</td>\n      <td>20210716</td>\n      <td>男性</td>\n      <td>http://zxgk.court.gov.cn/</td>\n      <td>失信人查询</td>\n      <td>失信被执行人名单</td>\n      <td>暂无</td>\n      <td>0</td>\n    </tr>\n    <tr>\n      <th>196</th>\n      <td>2015330</td>\n      <td>6899</td>\n      <td>8</td>\n      <td>1640484011</td>\n      <td>1640499412</td>\n      <td>2634</td>\n      <td>40</td>\n      <td>北京</td>\n      <td>北京</td>\n      <td></td>\n      <td>...</td>\n      <td>1.0</td>\n      <td>2021年06月23日</td>\n      <td>1624377600</td>\n      <td>20210107</td>\n      <td>男性</td>\n      <td>http://zxgk.court.gov.cn/</td>\n      <td>失信人查询</td>\n      <td>失信被执行人名单</td>\n      <td>暂无</td>\n      <td>0</td>\n    </tr>\n  </tbody>\n</table>\n<p>197 rows × 36 columns</p>\n</div>"
     },
     "execution_count": 5,
     "metadata": {},
     "output_type": "execute_result"
    }
   ],
   "source": [
    "df_beijing"
   ]
  },
  {
   "cell_type": "markdown",
   "id": "504ae4e2",
   "metadata": {},
   "source": [
    "## 身份证号"
   ]
  },
  {
   "cell_type": "code",
   "execution_count": 6,
   "id": "1bcd8e83",
   "metadata": {
    "pycharm": {
     "name": "#%%\n"
    }
   },
   "outputs": [
    {
     "name": "stderr",
     "output_type": "stream",
     "text": [
      "1it [00:00,  2.08it/s]\n"
     ]
    }
   ],
   "source": [
    "df_card = api.get(name=\"李明\", card_id=\"1321271976****0013\")"
   ]
  },
  {
   "cell_type": "code",
   "execution_count": 7,
   "id": "0ca3baed",
   "metadata": {
    "pycharm": {
     "name": "#%%\n"
    }
   },
   "outputs": [
    {
     "data": {
      "text/plain": "    SiteId  StdStg  StdStl  _select_time _update_time  _version age areaName  \\\n0  2015330    6899       8    1640481993   1640491094      2634  40       北京   \n1  2015330    6899       8    1640484547   1640491346      2634  40       海南   \n2  2015330    6899       8    1640481576   1640492555      2634  36       河北   \n3  2015330    6899       8    1640482930   1640494309      2634  40       北京   \n\n  areaNameNew businessEntity  ... priority  publishDate publishDateStamp  \\\n0          北京                 ...      1.0  2016年01月15日       1452787200   \n1          海南                 ...      1.0  2016年11月14日       1479052800   \n2          河北                 ...      1.0  2018年09月17日       1537113600   \n3          北京                 ...      1.0  2016年01月07日       1452096000   \n\n    regDate sexy                   sitelink  title      type unperformPart  \\\n0  20151109   男性  http://zxgk.court.gov.cn/  失信人查询  失信被执行人名单            暂无   \n1  20160602   男性  http://zxgk.court.gov.cn/  失信人查询  失信被执行人名单                 \n2  20180906   男性  http://zxgk.court.gov.cn/  失信人查询  失信被执行人名单            暂无   \n3  20151109   男性  http://zxgk.court.gov.cn/  失信人查询  失信被执行人名单            暂无   \n\n  xzhId  \n0     0  \n1     0  \n2     0  \n3     0  \n\n[4 rows x 36 columns]",
      "text/html": "<div>\n<style scoped>\n    .dataframe tbody tr th:only-of-type {\n        vertical-align: middle;\n    }\n\n    .dataframe tbody tr th {\n        vertical-align: top;\n    }\n\n    .dataframe thead th {\n        text-align: right;\n    }\n</style>\n<table border=\"1\" class=\"dataframe\">\n  <thead>\n    <tr style=\"text-align: right;\">\n      <th></th>\n      <th>SiteId</th>\n      <th>StdStg</th>\n      <th>StdStl</th>\n      <th>_select_time</th>\n      <th>_update_time</th>\n      <th>_version</th>\n      <th>age</th>\n      <th>areaName</th>\n      <th>areaNameNew</th>\n      <th>businessEntity</th>\n      <th>...</th>\n      <th>priority</th>\n      <th>publishDate</th>\n      <th>publishDateStamp</th>\n      <th>regDate</th>\n      <th>sexy</th>\n      <th>sitelink</th>\n      <th>title</th>\n      <th>type</th>\n      <th>unperformPart</th>\n      <th>xzhId</th>\n    </tr>\n  </thead>\n  <tbody>\n    <tr>\n      <th>0</th>\n      <td>2015330</td>\n      <td>6899</td>\n      <td>8</td>\n      <td>1640481993</td>\n      <td>1640491094</td>\n      <td>2634</td>\n      <td>40</td>\n      <td>北京</td>\n      <td>北京</td>\n      <td></td>\n      <td>...</td>\n      <td>1.0</td>\n      <td>2016年01月15日</td>\n      <td>1452787200</td>\n      <td>20151109</td>\n      <td>男性</td>\n      <td>http://zxgk.court.gov.cn/</td>\n      <td>失信人查询</td>\n      <td>失信被执行人名单</td>\n      <td>暂无</td>\n      <td>0</td>\n    </tr>\n    <tr>\n      <th>1</th>\n      <td>2015330</td>\n      <td>6899</td>\n      <td>8</td>\n      <td>1640484547</td>\n      <td>1640491346</td>\n      <td>2634</td>\n      <td>40</td>\n      <td>海南</td>\n      <td>海南</td>\n      <td></td>\n      <td>...</td>\n      <td>1.0</td>\n      <td>2016年11月14日</td>\n      <td>1479052800</td>\n      <td>20160602</td>\n      <td>男性</td>\n      <td>http://zxgk.court.gov.cn/</td>\n      <td>失信人查询</td>\n      <td>失信被执行人名单</td>\n      <td></td>\n      <td>0</td>\n    </tr>\n    <tr>\n      <th>2</th>\n      <td>2015330</td>\n      <td>6899</td>\n      <td>8</td>\n      <td>1640481576</td>\n      <td>1640492555</td>\n      <td>2634</td>\n      <td>36</td>\n      <td>河北</td>\n      <td>河北</td>\n      <td></td>\n      <td>...</td>\n      <td>1.0</td>\n      <td>2018年09月17日</td>\n      <td>1537113600</td>\n      <td>20180906</td>\n      <td>男性</td>\n      <td>http://zxgk.court.gov.cn/</td>\n      <td>失信人查询</td>\n      <td>失信被执行人名单</td>\n      <td>暂无</td>\n      <td>0</td>\n    </tr>\n    <tr>\n      <th>3</th>\n      <td>2015330</td>\n      <td>6899</td>\n      <td>8</td>\n      <td>1640482930</td>\n      <td>1640494309</td>\n      <td>2634</td>\n      <td>40</td>\n      <td>北京</td>\n      <td>北京</td>\n      <td></td>\n      <td>...</td>\n      <td>1.0</td>\n      <td>2016年01月07日</td>\n      <td>1452096000</td>\n      <td>20151109</td>\n      <td>男性</td>\n      <td>http://zxgk.court.gov.cn/</td>\n      <td>失信人查询</td>\n      <td>失信被执行人名单</td>\n      <td>暂无</td>\n      <td>0</td>\n    </tr>\n  </tbody>\n</table>\n<p>4 rows × 36 columns</p>\n</div>"
     },
     "execution_count": 7,
     "metadata": {},
     "output_type": "execute_result"
    }
   ],
   "source": [
    "df_card"
   ]
  },
  {
   "cell_type": "code",
   "execution_count": null,
   "id": "c8b54fad",
   "metadata": {
    "pycharm": {
     "name": "#%%\n"
    }
   },
   "outputs": [],
   "source": []
  }
 ],
 "metadata": {
  "kernelspec": {
   "display_name": "Python 3 (ipykernel)",
   "language": "python",
   "name": "python3"
  },
  "language_info": {
   "codemirror_mode": {
    "name": "ipython",
    "version": 3
   },
   "file_extension": ".py",
   "mimetype": "text/x-python",
   "name": "python",
   "nbconvert_exporter": "python",
   "pygments_lexer": "ipython3",
   "version": "3.9.7"
  }
 },
 "nbformat": 4,
 "nbformat_minor": 5
}